{
 "cells": [
  {
   "cell_type": "code",
   "execution_count": null,
   "metadata": {},
   "outputs": [],
   "source": [
    "import pickle \n",
    "import torch \n",
    "import os \n",
    "import numpy as np \n",
    "import seaborn as sns \n",
    "import matplotlib.pyplot as plt \n",
    "from tqdm import tqdm \n",
    "import json \n",
    "from datasets import get_datasets\n",
    "import torchvision.transforms as T \n",
    "DATA_PATH = '/data3/bumjin/bumjin_data/ILSVRC2012_val/'\n",
    "transform = T.Compose([\n",
    "                T.Resize(256, interpolation=T.InterpolationMode.BILINEAR),\n",
    "                T.CenterCrop(224),\n",
    "                ])"
   ]
  },
  {
   "cell_type": "code",
   "execution_count": null,
   "metadata": {},
   "outputs": [],
   "source": [
    "encoder = \"resnet34\"\n",
    "path = f\"results/{encoder}\"\n",
    "\n",
    "labels = json.load(open('labels.json', 'rb'))\n",
    "gaps = pickle.load(open(os.path.join(path, \"valid_gap.pkl\" ), 'rb')) # L x 50000 x C\n",
    "cls_statistics = pickle.load(open(os.path.join(path, \"cls_statistics.pkl\" ), 'rb'))  # L C CLS\n",
    "hiddens = torch.stack(pickle.load(open(os.path.join(path, \"valid_hidden.pkl\" ), 'rb')))\n",
    "_, valid_dataset = get_datasets('imagenet1k', DATA_PATH, transform)\n",
    "\n",
    "\n",
    "# values \n",
    "num_channels = [g.size(1) for g in gaps]\n",
    "linearized_gaps = torch.concat(gaps, dim=1)\n",
    "linearized_cls_statistics = torch.concat(cls_statistics, dim=0).permute(1,0)\n",
    "linearized_cls_statistics = torch.nan_to_num(linearized_cls_statistics)\n",
    "\n",
    "gaps[0].size(), cls_statistics[0].size(), hiddens.size(), linearized_cls_statistics.size()"
   ]
  },
  {
   "cell_type": "code",
   "execution_count": null,
   "metadata": {},
   "outputs": [],
   "source": [
    "def cosine_sim(a,b):\n",
    "    return torch.dot(a, b)/ (torch.norm(a) * torch.norm(b) + 1e-15)\n",
    "\n",
    "def gap_pure(cls_mu_lineared_gaps, cls, i):    \n",
    "    mu_cls = cls_mu_lineared_gaps[cls]\n",
    "    mu_i = cls_mu_lineared_gaps[i]\n",
    "    return cosine_sim(mu_cls, mu_i)\n",
    "\n",
    "def measure_hidden(cls_mu_hidden, cls, i):    \n",
    "    mu_cls = cls_mu_hidden[cls]\n",
    "    mu_i = cls_mu_hidden[i]\n",
    "    return cosine_sim(mu_cls, mu_i)\n",
    "\n",
    "def gap_stats(linearized_cls_statistics, cls, i ):\n",
    "    mu_cls = linearized_cls_statistics[cls]\n",
    "    mu_i = linearized_cls_statistics[i]\n",
    "    return cosine_sim(mu_cls, mu_i)\n",
    "\n",
    "def get_top_k_labels(v, sims, top_k=5):\n",
    "    sim = sims[v]\n",
    "    values, indices = torch.sort(sim, descending=True)\n",
    "    return  [labels[i] for i in indices[:top_k]], \\\n",
    "            [i.item() for i in indices[:top_k]], \\\n",
    "            [values[i] for i in indices[:top_k]]\n",
    "\n",
    "def plot_random_samples(classes, N=5):\n",
    "    ratio = 2\n",
    "    np.random.seed(3)\n",
    "    fig, axes = plt.subplots(len(classes), N, figsize=(ratio*N,ratio*len(classes) ))\n",
    "    af = axes.flat\n",
    "    for cls in classes:\n",
    "        # indices = [i for i in range(cls*50, (cls+1)*50)][:N]\n",
    "        indices = np.random.choice([i for i in range(cls*50, (cls+1)*50)], size=(N,), replace=False)\n",
    "        for i in range(N):\n",
    "            ax = next(af)\n",
    "            ax.imshow(valid_dataset[indices[i]][0])\n",
    "            ax.set_xticks([])\n",
    "            ax.set_yticks([])\n",
    "            if i ==0:\n",
    "                ax.set_title(labels[cls], rotation=0, fontsize=15)\n",
    "    return fig, axes \n",
    "    \n"
   ]
  },
  {
   "cell_type": "code",
   "execution_count": null,
   "metadata": {},
   "outputs": [],
   "source": [
    "# gap_pure for all class \n",
    "DEVICE = \"cuda:0\"\n",
    "\n",
    "if  os.path.exists(f\"{path}/sims.pkl\"):\n",
    "    sims  = pickle.load(open(f\"results/{encoder}/sims.pkl\", 'rb'))\n",
    "else:\n",
    "    # define the sim matrix\n",
    "    sims ={\n",
    "        'gap_pure'  : torch.zeros(1000,1000).to(DEVICE),\n",
    "        'gap_stats' : torch.zeros(1000,1000).to(DEVICE),\n",
    "        'hidden'    : torch.zeros(1000,1000).to(DEVICE),\n",
    "    }\n",
    "    linearized_gaps = linearized_gaps.to(DEVICE)\n",
    "    cls_sample_linearized_gaps = torch.stack(linearized_gaps.split([50 for _ in range(1000)], dim=0)) # 1000 x 50 x CHL\n",
    "    cls_mu_lineared_gaps = cls_sample_linearized_gaps.mean(dim=1) # 1000 x CHL\n",
    "    cls_mu_lineared_gaps = cls_mu_lineared_gaps / cls_mu_lineared_gaps.norm(dim=1).unsqueeze(1)\n",
    "\n",
    "    for cls in tqdm(range(1000)):\n",
    "        for i in range(1000):\n",
    "            sim_cls_i = gap_pure(cls_mu_lineared_gaps, cls, i)\n",
    "            sims['gap_pure'][cls,i] = sim_cls_i\n",
    "\n",
    "    linearized_cls_statistics = linearized_cls_statistics.to(DEVICE)\n",
    "    linearized_cls_statistics = linearized_cls_statistics / linearized_cls_statistics.norm(dim=1).unsqueeze(1)\n",
    "\n",
    "    for cls in tqdm(range(1000)):\n",
    "        for i in range(1000):\n",
    "            sim_cls_i = gap_stats(linearized_cls_statistics, cls, i)\n",
    "            sims['gap_stats'][cls,i] = sim_cls_i\n",
    "            \n",
    "    # hidden state \n",
    "    cls_sample_hidden =  torch.stack(hiddens.split([50 for _ in range(1000)], dim=0)) # 1000 x 50 x D\n",
    "    cls_mu_hidden = cls_sample_hidden.mean(dim=1) # 1000 x CHL\n",
    "    cls_mu_hidden = cls_mu_hidden / cls_mu_hidden.norm(dim=1).unsqueeze(1)\n",
    "\n",
    "    for cls in tqdm(range(1000)):\n",
    "        for i in range(1000):\n",
    "            sim_cls_i = measure_hidden(cls_mu_lineared_gaps, cls, i)\n",
    "            sims['hidden'][cls,i] = sim_cls_i\n",
    "\n",
    "    for k,v in sims.items():\n",
    "        sims[k] = v.cpu()\n",
    "    with open(f\"{path}/sims.pkl\", 'wb') as f:\n",
    "        pickle.dump(sims, f, pickle.HIGHEST_PROTOCOL)"
   ]
  },
  {
   "attachments": {},
   "cell_type": "markdown",
   "metadata": {},
   "source": [
    "# Check the Results"
   ]
  },
  {
   "cell_type": "code",
   "execution_count": null,
   "metadata": {},
   "outputs": [],
   "source": [
    "CLS=10\n",
    "top_k_labels, top_k_indices, top_k_sims = get_top_k_labels(CLS, sims['gap_pure'], top_k=10)\n",
    "print(top_k_indices)\n",
    "top_k_labels, top_k_indices, top_k_sims = get_top_k_labels(CLS, sims['gap_stats'], top_k=10)\n",
    "print(top_k_indices)\n",
    "top_k_labels, top_k_indices, top_k_sims = get_top_k_labels(CLS, sims['hidden'], top_k=10)\n",
    "print(top_k_indices)"
   ]
  },
  {
   "cell_type": "code",
   "execution_count": null,
   "metadata": {},
   "outputs": [],
   "source": [
    "# CLS=8\n",
    "# for key in ['gap_pure', 'gap_stats', 'hidden']:\n",
    "#     top_k_labels, top_k_indices, top_k_sims = get_top_k_labels(CLS, sims[key], top_k=3)\n",
    "#     fig, axes = plot_random_samples(top_k_indices,  N=3)\n",
    "#     # plt.savefig(f\"results/imgs_{CLS}_{key}.pdf\")\n",
    "\n"
   ]
  },
  {
   "cell_type": "code",
   "execution_count": null,
   "metadata": {},
   "outputs": [],
   "source": [
    "CLS=850\n",
    "TOP_K=10\n",
    "fig, axes = plt.subplots(2, TOP_K, figsize=(2*TOP_K, 2*2))\n",
    "af = axes.flat\n",
    "for key in ['gap_stats', 'hidden']:\n",
    "    top_k_labels, top_k_indices, top_k_sims = get_top_k_labels(CLS, sims[key], top_k=TOP_K)\n",
    "    for i in range(TOP_K):\n",
    "        ax = next(af)\n",
    "        ax.imshow(valid_dataset[top_k_indices[i]*50+13][0])\n",
    "        ax.set_xticks([])\n",
    "        ax.set_yticks([])\n",
    "        title = labels[top_k_indices[i]]\n",
    "        if len(title) >10:\n",
    "            title = \" \".join(title.split(\" \")[-2:])\n",
    "        ax.set_title(title, rotation=0, fontsize=12)\n",
    "plt.savefig(f\"results/img_{CLS}.pdf\")"
   ]
  },
  {
   "cell_type": "code",
   "execution_count": null,
   "metadata": {},
   "outputs": [],
   "source": []
  },
  {
   "cell_type": "code",
   "execution_count": null,
   "metadata": {},
   "outputs": [],
   "source": []
  },
  {
   "cell_type": "code",
   "execution_count": null,
   "metadata": {},
   "outputs": [],
   "source": []
  }
 ],
 "metadata": {
  "kernelspec": {
   "display_name": "deeping",
   "language": "python",
   "name": "python3"
  },
  "language_info": {
   "codemirror_mode": {
    "name": "ipython",
    "version": 3
   },
   "file_extension": ".py",
   "mimetype": "text/x-python",
   "name": "python",
   "nbconvert_exporter": "python",
   "pygments_lexer": "ipython3",
   "version": "3.8.12 (default, Oct 12 2021, 13:49:34) \n[GCC 7.5.0]"
  },
  "orig_nbformat": 4,
  "vscode": {
   "interpreter": {
    "hash": "cbc4c7136b33e244a0926e55a8aa1e57f1c839903e331a380cefab98f3f0f979"
   }
  }
 },
 "nbformat": 4,
 "nbformat_minor": 2
}
