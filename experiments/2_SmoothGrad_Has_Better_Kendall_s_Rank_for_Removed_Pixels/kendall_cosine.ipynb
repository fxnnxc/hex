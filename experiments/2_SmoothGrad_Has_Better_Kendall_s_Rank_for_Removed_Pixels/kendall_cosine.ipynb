{
 "cells": [
  {
   "cell_type": "code",
   "execution_count": 19,
   "metadata": {},
   "outputs": [],
   "source": [
    "import torch \n",
    "from integrated_gradient import integrated_gradient\n",
    "from smooth_grad import smooth_gradient\n",
    "from lrp_module import construct_lrp\n",
    "from data import get_cifar10_dataset \n",
    "import numpy as np \n",
    "from tqdm import tqdm \n",
    "import seaborn as sns \n",
    "import pandas as pd \n",
    "sns.set_style(\"whitegrid\")\n",
    "import os \n",
    "import matplotlib.pyplot as plt \n",
    "save_path = 'results'\n",
    "if not os.path.exists(save_path):\n",
    "    os.makedirs(save_path)\n"
   ]
  },
  {
   "cell_type": "code",
   "execution_count": 66,
   "metadata": {},
   "outputs": [
    {
     "name": "stdout",
     "output_type": "stream",
     "text": [
      "Files already downloaded and verified\n",
      "Files already downloaded and verified\n",
      "[+] Finished loading data & Preprocessing\n",
      "[Conv2d(3, 16, kernel_size=(3, 3), stride=(1, 1), padding=(1, 1)), ReLU(), MaxPool2d(kernel_size=2, stride=2, padding=0, dilation=1, ceil_mode=False), Conv2d(16, 16, kernel_size=(3, 3), stride=(1, 1), padding=(1, 1)), ReLU(), MaxPool2d(kernel_size=2, stride=2, padding=0, dilation=1, ceil_mode=False), Conv2d(16, 16, kernel_size=(3, 3), stride=(1, 1), padding=(1, 1)), ReLU(), Flatten(start_dim=1, end_dim=-1), Linear(in_features=1024, out_features=512, bias=True), ReLU(), Linear(in_features=512, out_features=10, bias=True)]\n"
     ]
    }
   ],
   "source": [
    "data_train, data_test, trainDataLoader,testDataLoader = get_cifar10_dataset()\n",
    "model = torch.load('/home/bumjin/deeping_exp/experiments/50_59/exp59/results/model_0.0.pt')\n",
    "model = model.cuda()\n",
    "\n",
    "lrp_model = construct_lrp(model, 'cuda:0')\n"
   ]
  },
  {
   "cell_type": "code",
   "execution_count": 67,
   "metadata": {},
   "outputs": [
    {
     "name": "stderr",
     "output_type": "stream",
     "text": [
      "100%|██████████| 50/50 [00:03<00:00, 15.21it/s]\n",
      "100%|██████████| 50/50 [00:09<00:00,  5.28it/s]\n",
      "100%|██████████| 50/50 [00:05<00:00,  8.92it/s]\n"
     ]
    }
   ],
   "source": [
    "from scipy.stats import kendalltau\n",
    "from scipy.spatial.distance import cosine\n",
    "def kendall(a,b):\n",
    "    tau, p_value = kendalltau(a,b, variant='c') # variant : [b,c]\n",
    "    return tau\n",
    "\n",
    "def cosine_sim(a,b):\n",
    "    a = a / np.linalg.norm(a)\n",
    "    b = b / np.linalg.norm(b)\n",
    "    return 1 - cosine(a,b) # cosine distance\n",
    "\n",
    "NUM_SAMPLES = 50\n",
    "\n",
    "results = {\n",
    "    'cosine' : [],\n",
    "    'kendall' : [],\n",
    "    'index' : [],\n",
    "    'y' : [], \n",
    "    'perturb': [],\n",
    "    'method' : []\n",
    "}\n",
    "\n",
    "def lrp_wrapper(model, x,y):\n",
    "    return lrp_model.forward(x.unsqueeze(0), y=y)['R'][0]\n",
    "    \n",
    "def smooth_wrapper(model, x,y):\n",
    "    return smooth_gradient(model, x, 150, 0.15, y)\n",
    "def ig_wrapper(model, x,y):\n",
    "    return integrated_gradient(model, x, 150, y, baseline=torch.zeros_like(x).cuda())\n",
    "\n",
    "for method in ['lrp', 'smooth', 'ig']:\n",
    "    fn = {'smooth':smooth_wrapper, 'ig':ig_wrapper, 'lrp':lrp_wrapper,}[method]\n",
    "    for i in tqdm(range(NUM_SAMPLES)):\n",
    "        x,y = data_test[i]\n",
    "        # ---------------\n",
    "        x = x.cuda()\n",
    "        output = fn(model, x, y)\n",
    "        non_perturbed = output.cpu().detach().numpy().flatten()\n",
    "        for eps in [i/10 for i in range(1, 11)]:\n",
    "            x_hat = x + (1-torch.rand_like(x)) * eps\n",
    "            output = fn(model, x_hat, y)\n",
    "            perturbed = output.cpu().detach().numpy().flatten()\n",
    "            results['cosine'].append(cosine_sim(non_perturbed, perturbed))\n",
    "            results['kendall'].append(kendall(non_perturbed, perturbed))\n",
    "            results['perturb'].append(eps)\n",
    "            results['index'].append(i)\n",
    "            results['y'].append(y)\n",
    "            results['method'].append(method)\n",
    "        \n",
    "        if i>NUM_SAMPLES:\n",
    "            break \n",
    "df = pd.DataFrame(results)\n"
   ]
  },
  {
   "cell_type": "code",
   "execution_count": 70,
   "metadata": {},
   "outputs": [],
   "source": [
    "sns.relplot(x='cosine', y='kendall', data=df, hue='method', palette='Set1', col='perturb', col_wrap=5, height=2, alpha=1.0, s=10, edgecolor=None)\n",
    "plt.savefig(os.path.join(save_path, 'eps_perturb.pdf'))"
   ]
  },
  {
   "cell_type": "code",
   "execution_count": 71,
   "metadata": {},
   "outputs": [],
   "source": [
    "sns.relplot(x='cosine', y='kendall', data=df, hue='perturb', palette='plasma', col='method', height=2.5, alpha=1.0, s=8, edgecolor = None)\n",
    "plt.savefig(os.path.join(save_path, 'eps_method.pdf'))\n"
   ]
  },
  {
   "cell_type": "markdown",
   "metadata": {},
   "source": [
    "# Masking Pixels"
   ]
  },
  {
   "cell_type": "code",
   "execution_count": 72,
   "metadata": {},
   "outputs": [],
   "source": [
    "import torch \n",
    "\n",
    "def zero_masking(x, filter, ratio):\n",
    "    assert x[0].size() == filter.size(), f\"{x.size()} - {filter.size()}\"\n",
    "    # masking the region by maximum regions in the filter. \n",
    "    # filter is a patch x patch region with magnitude\n",
    "    filter = filter.flatten()\n",
    "    v, index = torch.sort(filter, descending=True)\n",
    "    size = x.size()\n",
    "    x = x.reshape(x.size(0), -1)\n",
    "    for i in range(int(x.size(1)*ratio)):\n",
    "        idx = index[i]\n",
    "        x[0, idx].zero_()\n",
    "    x = x.reshape(*size)\n",
    "    return x"
   ]
  },
  {
   "cell_type": "code",
   "execution_count": 73,
   "metadata": {},
   "outputs": [
    {
     "name": "stderr",
     "output_type": "stream",
     "text": [
      "100%|██████████| 50/50 [00:09<00:00,  5.13it/s]\n",
      "100%|██████████| 50/50 [00:14<00:00,  3.34it/s]\n",
      "100%|██████████| 50/50 [00:11<00:00,  4.52it/s]\n"
     ]
    }
   ],
   "source": [
    "from scipy.stats import kendalltau\n",
    "from scipy.spatial.distance import cosine\n",
    "def kendall(a,b):\n",
    "    tau, p_value = kendalltau(a,b, variant='c') # variant : [b,c]\n",
    "    return tau\n",
    "\n",
    "def cosine_sim(a,b):\n",
    "    a = a / np.linalg.norm(a)\n",
    "    b = b / np.linalg.norm(b)\n",
    "    return 1 - cosine(a,b) # cosine distance\n",
    "\n",
    "NUM_SAMPLES = 50\n",
    "\n",
    "results = {\n",
    "    'cosine' : [],\n",
    "    'kendall' : [],\n",
    "    'index' : [],\n",
    "    'y' : [], \n",
    "    'remove_portion': [],\n",
    "    'method' : []\n",
    "}\n",
    "\n",
    "def lrp_wrapper(model, x,y):\n",
    "    return lrp_model.forward(x.unsqueeze(0), y=y)['R'][0]\n",
    "    \n",
    "def smooth_wrapper(model, x,y):\n",
    "    return smooth_gradient(model, x, 150, 0.15, y)\n",
    "def ig_wrapper(model, x,y):\n",
    "    return integrated_gradient(model, x, 150, y, baseline=torch.zeros_like(x).cuda())\n",
    "\n",
    "for method in ['lrp', 'smooth', 'ig']:\n",
    "    fn = {'smooth':smooth_wrapper, 'ig':ig_wrapper, 'lrp':lrp_wrapper,}[method]\n",
    "    for i in tqdm(range(NUM_SAMPLES)):\n",
    "        x,y = data_test[i]\n",
    "        # ---------------\n",
    "        x = x.cuda()\n",
    "        output = fn(model, x, y)\n",
    "        non_perturbed = output.cpu().detach().numpy().flatten()\n",
    "        for eps in [i/10 for i in range(1, 11)]:\n",
    "            x_hat = zero_masking(x, torch.abs(output).mean(dim=0), eps)\n",
    "            output = fn(model, x_hat, y)\n",
    "            perturbed = output.cpu().detach().numpy().flatten()\n",
    "            results['cosine'].append(cosine_sim(non_perturbed, perturbed))\n",
    "            results['kendall'].append(kendall(non_perturbed, perturbed))\n",
    "            results['remove_portion'].append(eps)\n",
    "            results['index'].append(i)\n",
    "            results['y'].append(y)\n",
    "            results['method'].append(method)\n",
    "        \n",
    "        if i>NUM_SAMPLES:\n",
    "            break \n",
    "df = pd.DataFrame(results)\n"
   ]
  },
  {
   "cell_type": "code",
   "execution_count": 76,
   "metadata": {},
   "outputs": [],
   "source": [
    "sns.relplot(x='cosine', y='kendall', data=df, hue='method', palette='Set1', col='remove_portion', col_wrap=5, height=2, alpha=1.0, s=10, edgecolor=None)\n",
    "# plt.show()\n",
    "plt.savefig(os.path.join(save_path, 'remove_portion.pdf'))"
   ]
  },
  {
   "cell_type": "code",
   "execution_count": 77,
   "metadata": {},
   "outputs": [],
   "source": [
    "sns.relplot(x='cosine', y='kendall', data=df, hue='remove_portion', palette='plasma', col='method', height=2.5, alpha=1.0, s=8, edgecolor = None )\n",
    "# plt.show()\n",
    "plt.savefig(os.path.join(save_path, 'remove_method.pdf'))\n"
   ]
  },
  {
   "cell_type": "code",
   "execution_count": null,
   "metadata": {},
   "outputs": [],
   "source": []
  },
  {
   "cell_type": "code",
   "execution_count": null,
   "metadata": {},
   "outputs": [],
   "source": []
  }
 ],
 "metadata": {
  "kernelspec": {
   "display_name": "Python 3.9.13 ('base')",
   "language": "python",
   "name": "python3"
  },
  "language_info": {
   "codemirror_mode": {
    "name": "ipython",
    "version": 3
   },
   "file_extension": ".py",
   "mimetype": "text/x-python",
   "name": "python",
   "nbconvert_exporter": "python",
   "pygments_lexer": "ipython3",
   "version": "3.9.13"
  },
  "orig_nbformat": 4,
  "vscode": {
   "interpreter": {
    "hash": "d733c53c25a36e33854a8263c46d4f732fe77946bdf8039c425bb5254e015fe4"
   }
  }
 },
 "nbformat": 4,
 "nbformat_minor": 2
}
