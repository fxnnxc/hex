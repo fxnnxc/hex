{
 "cells": [
  {
   "cell_type": "code",
   "execution_count": 1,
   "metadata": {},
   "outputs": [],
   "source": [
    "import torch\n",
    "import numpy as np\n",
    "from cka import CKA, CudaCKA"
   ]
  },
  {
   "cell_type": "code",
   "execution_count": 2,
   "metadata": {},
   "outputs": [],
   "source": [
    "\n",
    "# np_cka = CKA()\n",
    "\n",
    "# X = np.random.randn(10000, 100)\n",
    "# Y = np.random.randn(10000, 100)\n",
    "\n",
    "# print('Linear CKA, between X and Y: {}'.format(np_cka.linear_CKA(X, Y)))\n",
    "# print('Linear CKA, between X and X: {}'.format(np_cka.linear_CKA(X, X)))\n",
    "\n",
    "# print('RBF Kernel CKA, between X and Y: {}'.format(np_cka.kernel_CKA(X, Y)))\n",
    "# print('RBF Kernel CKA, between X and X: {}'.format(np_cka.kernel_CKA(X, X)))"
   ]
  },
  {
   "cell_type": "code",
   "execution_count": 3,
   "metadata": {},
   "outputs": [
    {
     "name": "stdout",
     "output_type": "stream",
     "text": [
      "Linear CKA, between X and Y: 0.010008406825363636\n",
      "Linear CKA, between X and X: 1.0\n",
      "RBF Kernel CKA, between X and Y: 0.01677781343460083\n",
      "RBF Kernel CKA, between X and X: 1.0\n",
      "CPU times: user 5.31 s, sys: 3.67 s, total: 8.98 s\n",
      "Wall time: 8.98 s\n"
     ]
    }
   ],
   "source": [
    "%%time\n",
    "\n",
    "device = torch.device('cuda:0')\n",
    "cuda_cka = CudaCKA(device)\n",
    "\n",
    "X = torch.randn(10000, 100, device=device)\n",
    "Y = torch.randn(10000, 100, device=device)\n",
    "\n",
    "print('Linear CKA, between X and Y: {}'.format(cuda_cka.linear_CKA(X, Y)))\n",
    "print('Linear CKA, between X and X: {}'.format(cuda_cka.linear_CKA(X, X)))\n",
    "\n",
    "print('RBF Kernel CKA, between X and Y: {}'.format(cuda_cka.kernel_CKA(X, Y)))\n",
    "print('RBF Kernel CKA, between X and X: {}'.format(cuda_cka.kernel_CKA(X, X)))"
   ]
  },
  {
   "cell_type": "markdown",
   "metadata": {},
   "source": [
    "# Model"
   ]
  },
  {
   "cell_type": "code",
   "execution_count": 4,
   "metadata": {},
   "outputs": [],
   "source": [
    "import torch \n",
    "\n",
    "m0 = torch.load('results/model_0.pt')\n",
    "m1 = torch.load('results/model_0.1.pt')\n",
    "m2 = torch.load('results/model_0.2.pt')\n",
    "m3 = torch.load('results/model_0.3.pt')\n",
    "m4 = torch.load('results/model_0.4.pt')"
   ]
  },
  {
   "cell_type": "code",
   "execution_count": 5,
   "metadata": {},
   "outputs": [
    {
     "name": "stdout",
     "output_type": "stream",
     "text": [
      "Files already downloaded and verified\n",
      "Files already downloaded and verified\n",
      "[+] Finished loading data & Preprocessing\n"
     ]
    }
   ],
   "source": [
    "from data import get_cifar10_dataset\n",
    "trainset, testset, train_loader, valid_loader = get_cifar10_dataset()\n",
    "\n",
    "features= [] \n",
    "\n",
    "for m in [m0,m1,m2, m3, m4]:\n",
    "    features.append([[],[],[]])\n",
    "    for i, (x,y) in enumerate(testset):\n",
    "        if i>=1000:\n",
    "            break \n",
    "        x = x.cuda().unsqueeze(0)\n",
    "        x += torch.rand_like(x)\n",
    "        conv1 = m.c1(x)\n",
    "        conv2 = m.c2(conv1)\n",
    "        final = m.final(conv2)\n",
    "        features[-1][0].append(conv1.flatten().clone().detach())\n",
    "        features[-1][1].append(conv2.flatten().clone().detach())\n",
    "        features[-1][2].append(final.flatten().clone().detach())\n"
   ]
  },
  {
   "cell_type": "code",
   "execution_count": 6,
   "metadata": {},
   "outputs": [],
   "source": [
    "\n",
    "device = torch.device('cuda:0')\n",
    "cuda_cka = CudaCKA(device)\n",
    "\n",
    "linear = [] \n",
    "rbf = []\n",
    "\n",
    "dic = {\n",
    "    'target': [],\n",
    "    'layer' : [],\n",
    "    'kernel' : [],\n",
    "    'sim' : [] \n",
    "}\n",
    "import pandas as pd \n",
    "\n",
    "for layer in range(3):\n",
    "    f0 = torch.stack(features[0][layer])\n",
    "    for eps in range(4):\n",
    "        f_target = torch.stack(features[eps+1][layer])\n",
    "        X= f0\n",
    "        Y= f_target\n",
    "        # Linear\n",
    "        dic['target'].append(eps)\n",
    "        dic['layer'].append(layer)\n",
    "        dic['kernel'].append(\"linear\")\n",
    "        dic['sim'].append(cuda_cka.linear_CKA(X, Y).item())\n",
    "        \n",
    "        # RBF\n",
    "        dic['target'].append(eps)\n",
    "        dic['layer'].append(layer)\n",
    "        dic['kernel'].append(\"rbf\")\n",
    "        dic['sim'].append(cuda_cka.kernel_CKA(X, Y).item())\n",
    "        \n",
    "df = pd.DataFrame(dic)"
   ]
  },
  {
   "cell_type": "code",
   "execution_count": 29,
   "metadata": {},
   "outputs": [
    {
     "data": {
      "image/png": "[encoded data removed]",
      "text/plain": [
       "<Figure size 1000x300 with 2 Axes>"
      ]
     },
     "metadata": {},
     "output_type": "display_data"
    }
   ],
   "source": [
    "import seaborn as sns \n",
    "import matplotlib.cm as cm \n",
    "import matplotlib.pyplot as plt \n",
    "\n",
    "fig, axes = plt.subplots(1,2, figsize=(10,3))\n",
    "cmap = cm.get_cmap(\"plasma\")\n",
    "temp = df[df['kernel']=='linear']\n",
    "sns.barplot(x='layer', y='sim', data=temp, hue='target', palette=[cmap(i/3) for i in range(4)], ax=axes[0])\n",
    "axes[0].set_title(\"Linear CKA\")\n",
    "axes[0].get_legend().remove()\n",
    "axes[0].set_ylim((0.8, 1.0))\n",
    "\n",
    "\n",
    "temp = df[df['kernel']=='rbf']\n",
    "sns.barplot(x='layer', y='sim', data=temp, hue='target', palette=[cmap(i/3) for i in range(4)], ax=axes[1])\n",
    "axes[1].set_title(\"RBF CKA\")\n",
    "axes[1].legend(bbox_to_anchor=(1,1))\n",
    "axes[1].set_ylim((0.8, 1.0))\n",
    "plt.savefig(\"results/cka.pdf\")\n"
   ]
  },
  {
   "cell_type": "code",
   "execution_count": 8,
   "metadata": {},
   "outputs": [
    {
     "data": {
      "text/html": [
       "<div>\n",
       "<style scoped>\n",
       "    .dataframe tbody tr th:only-of-type {\n",
       "        vertical-align: middle;\n",
       "    }\n",
       "\n",
       "    .dataframe tbody tr th {\n",
       "        vertical-align: top;\n",
       "    }\n",
       "\n",
       "    .dataframe thead th {\n",
       "        text-align: right;\n",
       "    }\n",
       "</style>\n",
       "<table border=\"1\" class=\"dataframe\">\n",
       "  <thead>\n",
       "    <tr style=\"text-align: right;\">\n",
       "      <th></th>\n",
       "      <th>target</th>\n",
       "      <th>layer</th>\n",
       "      <th>kernel</th>\n",
       "      <th>sim</th>\n",
       "    </tr>\n",
       "  </thead>\n",
       "  <tbody>\n",
       "    <tr>\n",
       "      <th>0</th>\n",
       "      <td>0</td>\n",
       "      <td>0</td>\n",
       "      <td>linear</td>\n",
       "      <td>0.972732</td>\n",
       "    </tr>\n",
       "    <tr>\n",
       "      <th>1</th>\n",
       "      <td>0</td>\n",
       "      <td>0</td>\n",
       "      <td>rbf</td>\n",
       "      <td>0.972091</td>\n",
       "    </tr>\n",
       "    <tr>\n",
       "      <th>2</th>\n",
       "      <td>1</td>\n",
       "      <td>0</td>\n",
       "      <td>linear</td>\n",
       "      <td>0.982938</td>\n",
       "    </tr>\n",
       "    <tr>\n",
       "      <th>3</th>\n",
       "      <td>1</td>\n",
       "      <td>0</td>\n",
       "      <td>rbf</td>\n",
       "      <td>0.979212</td>\n",
       "    </tr>\n",
       "    <tr>\n",
       "      <th>4</th>\n",
       "      <td>2</td>\n",
       "      <td>0</td>\n",
       "      <td>linear</td>\n",
       "      <td>0.960121</td>\n",
       "    </tr>\n",
       "    <tr>\n",
       "      <th>5</th>\n",
       "      <td>2</td>\n",
       "      <td>0</td>\n",
       "      <td>rbf</td>\n",
       "      <td>0.955050</td>\n",
       "    </tr>\n",
       "    <tr>\n",
       "      <th>6</th>\n",
       "      <td>3</td>\n",
       "      <td>0</td>\n",
       "      <td>linear</td>\n",
       "      <td>0.976062</td>\n",
       "    </tr>\n",
       "    <tr>\n",
       "      <th>7</th>\n",
       "      <td>3</td>\n",
       "      <td>0</td>\n",
       "      <td>rbf</td>\n",
       "      <td>0.972129</td>\n",
       "    </tr>\n",
       "    <tr>\n",
       "      <th>8</th>\n",
       "      <td>0</td>\n",
       "      <td>1</td>\n",
       "      <td>linear</td>\n",
       "      <td>0.957470</td>\n",
       "    </tr>\n",
       "    <tr>\n",
       "      <th>9</th>\n",
       "      <td>0</td>\n",
       "      <td>1</td>\n",
       "      <td>rbf</td>\n",
       "      <td>0.958859</td>\n",
       "    </tr>\n",
       "    <tr>\n",
       "      <th>10</th>\n",
       "      <td>1</td>\n",
       "      <td>1</td>\n",
       "      <td>linear</td>\n",
       "      <td>0.928892</td>\n",
       "    </tr>\n",
       "    <tr>\n",
       "      <th>11</th>\n",
       "      <td>1</td>\n",
       "      <td>1</td>\n",
       "      <td>rbf</td>\n",
       "      <td>0.936940</td>\n",
       "    </tr>\n",
       "    <tr>\n",
       "      <th>12</th>\n",
       "      <td>2</td>\n",
       "      <td>1</td>\n",
       "      <td>linear</td>\n",
       "      <td>0.923269</td>\n",
       "    </tr>\n",
       "    <tr>\n",
       "      <th>13</th>\n",
       "      <td>2</td>\n",
       "      <td>1</td>\n",
       "      <td>rbf</td>\n",
       "      <td>0.927116</td>\n",
       "    </tr>\n",
       "    <tr>\n",
       "      <th>14</th>\n",
       "      <td>3</td>\n",
       "      <td>1</td>\n",
       "      <td>linear</td>\n",
       "      <td>0.928705</td>\n",
       "    </tr>\n",
       "    <tr>\n",
       "      <th>15</th>\n",
       "      <td>3</td>\n",
       "      <td>1</td>\n",
       "      <td>rbf</td>\n",
       "      <td>0.935417</td>\n",
       "    </tr>\n",
       "    <tr>\n",
       "      <th>16</th>\n",
       "      <td>0</td>\n",
       "      <td>2</td>\n",
       "      <td>linear</td>\n",
       "      <td>0.863445</td>\n",
       "    </tr>\n",
       "    <tr>\n",
       "      <th>17</th>\n",
       "      <td>0</td>\n",
       "      <td>2</td>\n",
       "      <td>rbf</td>\n",
       "      <td>0.856354</td>\n",
       "    </tr>\n",
       "    <tr>\n",
       "      <th>18</th>\n",
       "      <td>1</td>\n",
       "      <td>2</td>\n",
       "      <td>linear</td>\n",
       "      <td>0.847215</td>\n",
       "    </tr>\n",
       "    <tr>\n",
       "      <th>19</th>\n",
       "      <td>1</td>\n",
       "      <td>2</td>\n",
       "      <td>rbf</td>\n",
       "      <td>0.845156</td>\n",
       "    </tr>\n",
       "    <tr>\n",
       "      <th>20</th>\n",
       "      <td>2</td>\n",
       "      <td>2</td>\n",
       "      <td>linear</td>\n",
       "      <td>0.857011</td>\n",
       "    </tr>\n",
       "    <tr>\n",
       "      <th>21</th>\n",
       "      <td>2</td>\n",
       "      <td>2</td>\n",
       "      <td>rbf</td>\n",
       "      <td>0.847149</td>\n",
       "    </tr>\n",
       "    <tr>\n",
       "      <th>22</th>\n",
       "      <td>3</td>\n",
       "      <td>2</td>\n",
       "      <td>linear</td>\n",
       "      <td>0.851461</td>\n",
       "    </tr>\n",
       "    <tr>\n",
       "      <th>23</th>\n",
       "      <td>3</td>\n",
       "      <td>2</td>\n",
       "      <td>rbf</td>\n",
       "      <td>0.843407</td>\n",
       "    </tr>\n",
       "  </tbody>\n",
       "</table>\n",
       "</div>"
      ],
      "text/plain": [
       "    target  layer  kernel       sim\n",
       "0        0      0  linear  0.972732\n",
       "1        0      0     rbf  0.972091\n",
       "2        1      0  linear  0.982938\n",
       "3        1      0     rbf  0.979212\n",
       "4        2      0  linear  0.960121\n",
       "5        2      0     rbf  0.955050\n",
       "6        3      0  linear  0.976062\n",
       "7        3      0     rbf  0.972129\n",
       "8        0      1  linear  0.957470\n",
       "9        0      1     rbf  0.958859\n",
       "10       1      1  linear  0.928892\n",
       "11       1      1     rbf  0.936940\n",
       "12       2      1  linear  0.923269\n",
       "13       2      1     rbf  0.927116\n",
       "14       3      1  linear  0.928705\n",
       "15       3      1     rbf  0.935417\n",
       "16       0      2  linear  0.863445\n",
       "17       0      2     rbf  0.856354\n",
       "18       1      2  linear  0.847215\n",
       "19       1      2     rbf  0.845156\n",
       "20       2      2  linear  0.857011\n",
       "21       2      2     rbf  0.847149\n",
       "22       3      2  linear  0.851461\n",
       "23       3      2     rbf  0.843407"
      ]
     },
     "execution_count": 8,
     "metadata": {},
     "output_type": "execute_result"
    }
   ],
   "source": [
    "df"
   ]
  },
  {
   "cell_type": "code",
   "execution_count": 16,
   "metadata": {},
   "outputs": [
    {
     "name": "stderr",
     "output_type": "stream",
     "text": [
      "100%|██████████| 157/157 [00:02<00:00, 62.09it/s]\n"
     ]
    },
    {
     "name": "stdout",
     "output_type": "stream",
     "text": [
      "tensor(0.6524, device='cuda:0')\n"
     ]
    },
    {
     "name": "stderr",
     "output_type": "stream",
     "text": [
      "100%|██████████| 157/157 [00:02<00:00, 65.04it/s]\n"
     ]
    },
    {
     "name": "stdout",
     "output_type": "stream",
     "text": [
      "tensor(0.6531, device='cuda:0')\n"
     ]
    },
    {
     "name": "stderr",
     "output_type": "stream",
     "text": [
      "100%|██████████| 157/157 [00:02<00:00, 64.65it/s]\n"
     ]
    },
    {
     "name": "stdout",
     "output_type": "stream",
     "text": [
      "tensor(0.6529, device='cuda:0')\n"
     ]
    },
    {
     "name": "stderr",
     "output_type": "stream",
     "text": [
      "100%|██████████| 157/157 [00:02<00:00, 63.02it/s]\n"
     ]
    },
    {
     "name": "stdout",
     "output_type": "stream",
     "text": [
      "tensor(0.6458, device='cuda:0')\n"
     ]
    },
    {
     "name": "stderr",
     "output_type": "stream",
     "text": [
      "100%|██████████| 157/157 [00:02<00:00, 64.08it/s]"
     ]
    },
    {
     "name": "stdout",
     "output_type": "stream",
     "text": [
      "tensor(0.6330, device='cuda:0')\n"
     ]
    },
    {
     "name": "stderr",
     "output_type": "stream",
     "text": [
      "\n"
     ]
    }
   ],
   "source": [
    "from tqdm import tqdm \n",
    "performs = [] \n",
    "for m in [m0,m1,m2, m3, m4]:\n",
    "    eq = 0\n",
    "    for (x, y) in tqdm((valid_loader)):\n",
    "        x = x.to(\"cuda:0\")\n",
    "        y = y.to(\"cuda:0\")\n",
    "        y_hat = m(x).argmax(dim=-1)\n",
    "        eq += (y == y_hat).sum()\n",
    "\n",
    "    current_performance = eq/len(testset)\n",
    "    print(current_performance)\n",
    "    performs.append(current_performance.item())\n",
    "    "
   ]
  },
  {
   "cell_type": "code",
   "execution_count": 38,
   "metadata": {},
   "outputs": [
    {
     "data": {
      "image/png": "[encoded data removed]",
      "text/plain": [
       "<Figure size 500x250 with 1 Axes>"
      ]
     },
     "metadata": {},
     "output_type": "display_data"
    }
   ],
   "source": [
    "plt.figure(figsize=(5, 2.5))\n",
    "plt.bar(x=[0.1*i for i in range(5)], height=performs, width=0.07, color='orange')\n",
    "plt.ylim(0.62, 0.655)\n",
    "plt.xlabel(\"lambda\")\n",
    "plt.ylabel(\"validation accuracy\")\n",
    "plt.savefig(\"results/acc.pdf\")\n"
   ]
  },
  {
   "cell_type": "code",
   "execution_count": null,
   "metadata": {},
   "outputs": [],
   "source": []
  }
 ],
 "metadata": {
  "kernelspec": {
   "display_name": "Python 3.9.13 ('base')",
   "language": "python",
   "name": "python3"
  },
  "language_info": {
   "codemirror_mode": {
    "name": "ipython",
    "version": 3
   },
   "file_extension": ".py",
   "mimetype": "text/x-python",
   "name": "python",
   "nbconvert_exporter": "python",
   "pygments_lexer": "ipython3",
   "version": "3.9.13"
  },
  "orig_nbformat": 4,
  "vscode": {
   "interpreter": {
    "hash": "d733c53c25a36e33854a8263c46d4f732fe77946bdf8039c425bb5254e015fe4"
   }
  }
 },
 "nbformat": 4,
 "nbformat_minor": 2
}
